{
  "nbformat": 4,
  "nbformat_minor": 0,
  "metadata": {
    "colab": {
      "provenance": [],
      "authorship_tag": "ABX9TyPNE6RqDgMxvoszubUlV6fg",
      "include_colab_link": true
    },
    "kernelspec": {
      "name": "python3",
      "display_name": "Python 3"
    },
    "language_info": {
      "name": "python"
    },
    "accelerator": "GPU",
    "gpuClass": "standard"
  },
  "cells": [
    {
      "cell_type": "markdown",
      "metadata": {
        "id": "view-in-github",
        "colab_type": "text"
      },
      "source": [
        "<a href=\"https://colab.research.google.com/github/Henil21/Natural_Language_processing/blob/main/Transformer.ipynb\" target=\"_parent\"><img src=\"https://colab.research.google.com/assets/colab-badge.svg\" alt=\"Open In Colab\"/></a>"
      ]
    },
    {
      "cell_type": "code",
      "execution_count": 1,
      "metadata": {
        "colab": {
          "base_uri": "https://localhost:8080/"
        },
        "id": "YGSKioNBiSO9",
        "outputId": "c034e0c2-a8cc-48ed-d9cb-15d69f4703b5"
      },
      "outputs": [
        {
          "output_type": "stream",
          "name": "stdout",
          "text": [
            "--2023-04-13 07:22:20--  https://raw.githubusercontent.com/karpathy/char-rnn/master/data/tinyshakespeare/input.txt\n",
            "Resolving raw.githubusercontent.com (raw.githubusercontent.com)... 185.199.108.133, 185.199.109.133, 185.199.110.133, ...\n",
            "Connecting to raw.githubusercontent.com (raw.githubusercontent.com)|185.199.108.133|:443... connected.\n",
            "HTTP request sent, awaiting response... 200 OK\n",
            "Length: 1115394 (1.1M) [text/plain]\n",
            "Saving to: ‘input.txt’\n",
            "\n",
            "input.txt           100%[===================>]   1.06M  --.-KB/s    in 0.009s  \n",
            "\n",
            "2023-04-13 07:22:20 (121 MB/s) - ‘input.txt’ saved [1115394/1115394]\n",
            "\n"
          ]
        }
      ],
      "source": [
        "# We always start with a dataset to train on. Let's download the tiny shakespeare dataset\n",
        "!wget https://raw.githubusercontent.com/karpathy/char-rnn/master/data/tinyshakespeare/input.txt"
      ]
    },
    {
      "cell_type": "code",
      "source": [
        "with open ('input.txt','r',encoding= 'utf-8', ) as f:\n",
        "  text=f.read()"
      ],
      "metadata": {
        "id": "71xmoIdTdej3"
      },
      "execution_count": 2,
      "outputs": []
    },
    {
      "cell_type": "code",
      "source": [
        "len(text)"
      ],
      "metadata": {
        "colab": {
          "base_uri": "https://localhost:8080/"
        },
        "id": "GFNJO5UEd3n-",
        "outputId": "f308ee53-46d0-4d5a-f88d-b5875e6341f3"
      },
      "execution_count": 3,
      "outputs": [
        {
          "output_type": "execute_result",
          "data": {
            "text/plain": [
              "1115394"
            ]
          },
          "metadata": {},
          "execution_count": 3
        }
      ]
    },
    {
      "cell_type": "markdown",
      "source": [
        "converting text into set to get unique char\n",
        "further we will convert it into list"
      ],
      "metadata": {
        "id": "9xuaSSJeeAPI"
      }
    },
    {
      "cell_type": "code",
      "source": [
        "txt=set(text)\n",
        "list(txt)\n",
        "print(''.join(txt))\n",
        "voc_size=len(txt)\n",
        "print(voc_size)\n"
      ],
      "metadata": {
        "colab": {
          "base_uri": "https://localhost:8080/"
        },
        "id": "88ILP81jd7dA",
        "outputId": "6f56c7e6-5565-4bda-8c9e-b8040671acc1"
      },
      "execution_count": 4,
      "outputs": [
        {
          "output_type": "stream",
          "name": "stdout",
          "text": [
            "qUcM,JFSl.:H&wsNtL\n",
            "!fdkp3zBgE$Zjv?GnWAPXYTr; CouKeVROIy-x'QhamibD\n",
            "65\n"
          ]
        }
      ]
    },
    {
      "cell_type": "markdown",
      "source": [
        "we got 65 unique char mentioned above"
      ],
      "metadata": {
        "id": "CDznG102e20R"
      }
    },
    {
      "cell_type": "markdown",
      "source": [
        "# text vectorization\n",
        "We will further convert all char to a particular number\n",
        "\n",
        "we will use transformer which means using encoder and decoder\n",
        "\n",
        "Decoder will decode the encoded text whereas encoder will encode the text \n"
      ],
      "metadata": {
        "id": "qwuh90x-hMnM"
      }
    },
    {
      "cell_type": "code",
      "source": [
        "stoi={ch:i for i, ch in enumerate(txt)}\n",
        "iots={i:ch for i, ch in enumerate(txt)}\n",
        "\n",
        "encode= lambda s:[stoi[c] for c in s]\n",
        "decoding= lambda d:\"\".join(iots[i] for i in d)\n",
        "print(encode('hello'))\n",
        "print(decoding(encode(\"hello\")))"
      ],
      "metadata": {
        "colab": {
          "base_uri": "https://localhost:8080/"
        },
        "id": "igQTNsmOhiZw",
        "outputId": "0e7ff79b-85ea-48bf-829a-f27853b9fb82"
      },
      "execution_count": 22,
      "outputs": [
        {
          "output_type": "stream",
          "name": "stdout",
          "text": [
            "[59, 49, 8, 8, 46]\n",
            "hello\n"
          ]
        }
      ]
    },
    {
      "cell_type": "markdown",
      "source": [
        "Convert encoded text into tensor"
      ],
      "metadata": {
        "id": "Hf_BrGkho-Rn"
      }
    },
    {
      "cell_type": "code",
      "source": [
        "import tensorflow as tf\n",
        "data=tf.convert_to_tensor(\n",
        "    encode(text)\n",
        ")\n",
        "# data[:1000]\n",
        "\n"
      ],
      "metadata": {
        "id": "_ErxJMU1oNm-"
      },
      "execution_count": 30,
      "outputs": []
    },
    {
      "cell_type": "code",
      "source": [
        "n=int(0.9*len(data))\n",
        "train_data=data[:n]\n",
        "val_data=data[n:]"
      ],
      "metadata": {
        "id": "6C9fIHUdpyvE"
      },
      "execution_count": 32,
      "outputs": []
    },
    {
      "cell_type": "code",
      "source": [],
      "metadata": {
        "id": "c7c9JjG5qDWu"
      },
      "execution_count": null,
      "outputs": []
    }
  ]
}